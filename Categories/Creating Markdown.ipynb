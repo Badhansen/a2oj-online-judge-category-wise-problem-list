{
 "cells": [
  {
   "cell_type": "code",
   "execution_count": 2,
   "metadata": {},
   "outputs": [
    {
     "name": "stdout",
     "output_type": "stream",
     "text": [
      "['Best Problem Setters problems.xls', 'Binary_Ternary_Search_problems.xls', 'bitmasks problems.xls', 'brute force problems.xls', 'Codeforces_Div1D_problems.xls', 'Codeforces_Div2F_Problems.xls', 'Codeforces_Div_2A_problems.xls', 'Codeforces_Div_2B_problems.xls', 'Codeforces_Div_2C_problems.xls', 'Codeforces_Div_2D_problems.xls', 'Codeforces_Div_2E_problems.xls', 'combinatorics problems.xls', 'constructive_algo_problems.xls', 'data structures problems.xls', 'DFS & BFS & Dijkstra problems.xls', 'dsu problems.xls', 'Dynamic Programming problems.xls', 'Geometry problems.xls', 'graphs problems.xls', 'Greedy.xls', 'Implementation.xls', 'Math.xls', 'Network Flow problems.xls', 'Number Theory problems.xls', 'probabilities problems.xls', 'Segment Tree problems.xls', 'sortings problems.xls', 'strings problems.xls', 'trees problems.xls', 'two pointers problems.xls']\n",
      "30\n"
     ]
    }
   ],
   "source": [
    "import xlrd\n",
    "import os\n",
    "import glob\n",
    "\n",
    "files = glob.glob('*.xls')\n",
    "print(files)\n",
    "print(len(files))"
   ]
  },
  {
   "cell_type": "code",
   "execution_count": 3,
   "metadata": {
    "collapsed": true
   },
   "outputs": [],
   "source": [
    "# creating all at once\n",
    "for f in files:\n",
    "    t = f[:len(f) - 3]\n",
    "    t = t + 'md'\n",
    "    ff = open(t, \"w\")\n",
    "    \n",
    "    workbook = xlrd.open_workbook(f)\n",
    "    \n",
    "    worksheet = workbook.sheet_by_index(0)\n",
    "    \n",
    "    problem_name = worksheet.col_values(0)\n",
    "    level = worksheet.col_values(2)\n",
    "    link = worksheet.col_values(3)\n",
    "    \n",
    "    ff.write(\"| Serial | {0} | {1} |\\n\".format(problem_name[0], level[0]))\n",
    "    ff.write(\"|:--|:---:|:---:|\\n\")\n",
    "    for i in range(1, len(problem_name)):\n",
    "        ff.write(\"|{0}.| [{1}]({2}) | {3} |\\n\".format(i, problem_name[i], link[i], level[i]))"
   ]
  },
  {
   "cell_type": "code",
   "execution_count": null,
   "metadata": {
    "collapsed": true
   },
   "outputs": [],
   "source": []
  }
 ],
 "metadata": {
  "kernelspec": {
   "display_name": "Python 3",
   "language": "python",
   "name": "python3"
  },
  "language_info": {
   "codemirror_mode": {
    "name": "ipython",
    "version": 3
   },
   "file_extension": ".py",
   "mimetype": "text/x-python",
   "name": "python",
   "nbconvert_exporter": "python",
   "pygments_lexer": "ipython3",
   "version": "3.6.1"
  }
 },
 "nbformat": 4,
 "nbformat_minor": 2
}
