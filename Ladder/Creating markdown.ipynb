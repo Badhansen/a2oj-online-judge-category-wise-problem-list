{
 "cells": [
  {
   "cell_type": "code",
   "execution_count": 37,
   "metadata": {},
   "outputs": [
    {
     "name": "stdout",
     "output_type": "stream",
     "text": [
      "<xlrd.sheet.Sheet object at 0x00000127ED653F28>\n"
     ]
    }
   ],
   "source": [
    "import xlrd\n",
    "\n",
    "workbook = xlrd.open_workbook('Codeforces Rating 2200 to last.xls')\n",
    "worksheet = workbook.sheet_by_index(0)\n",
    "print(worksheet)"
   ]
  },
  {
   "cell_type": "code",
   "execution_count": 38,
   "metadata": {},
   "outputs": [
    {
     "name": "stdout",
     "output_type": "stream",
     "text": [
      "[text:'Problem Name', text:'Online Judge', text:'Difficulty Level', text:'Link']\n",
      "[text:'Pangram', text:'Codeforces', text:'1', text:'http://codeforces.com/problemset/problem/520/A']\n",
      "[text:'Fox And Snake', text:'Codeforces', text:'1', text:'http://codeforces.com/problemset/problem/510/A']\n",
      "[text:'Insomnia cure', text:'Codeforces', text:'1', text:'http://codeforces.com/problemset/problem/148/A']\n",
      "[text:'Watching a movie', text:'Codeforces', text:'2', text:'http://codeforces.com/problemset/problem/499/A']\n",
      "[text:'Dreamoon and WiFi', text:'Codeforces', text:'3', text:'http://codeforces.com/problemset/problem/476/B']\n",
      "[text:'Playing with Paper', text:'Codeforces', text:'3', text:'http://codeforces.com/problemset/problem/527/A']\n",
      "[text:'Link/Cut Tree', text:'Codeforces', text:'4', text:'http://codeforces.com/problemset/problem/614/A']\n",
      "[text:'Crazy Town', text:'Codeforces', text:'4', text:'http://codeforces.com/problemset/problem/498/A']\n",
      "[text:'Mr. Kitayuta, the Treasure Hunter', text:'Codeforces', text:'4', text:'http://codeforces.com/problemset/problem/505/C']\n",
      "[text:'Tennis Game', text:'Codeforces', text:'4', text:'http://codeforces.com/problemset/problem/496/D']\n",
      "[text:'Number of Ways', text:'Codeforces', text:'4', text:'http://codeforces.com/problemset/problem/466/C']\n",
      "[text:'Error Correct System', text:'Codeforces', text:'4', text:'http://codeforces.com/problemset/problem/527/B']\n",
      "[text:'Fight the Monster', text:'Codeforces', text:'4', text:'http://codeforces.com/problemset/problem/487/A']\n",
      "[text:'Skills', text:'Codeforces', text:'4', text:'http://codeforces.com/problemset/problem/613/B']\n",
      "[text:'Clique Problem', text:'Codeforces', text:'4', text:'http://codeforces.com/problemset/problem/527/D']\n",
      "[text:'Glass Carving', text:'Codeforces', text:'4', text:'http://codeforces.com/problemset/problem/527/C']\n",
      "[text:'Edo and Magnets', text:'Codeforces', text:'5', text:'http://codeforces.com/problemset/problem/594/C']\n",
      "[text:'Appleman and a Sheet of Paper', text:'Codeforces', text:'5', text:'http://codeforces.com/problemset/problem/461/C']\n",
      "[text:'Numbers', text:'Codeforces', text:'5', text:'http://codeforces.com/problemset/problem/128/D']\n",
      "[text:'Greg and Friends', text:'Codeforces', text:'5', text:'http://codeforces.com/problemset/problem/295/C']\n",
      "[text:'Watto and Mechanism', text:'Codeforces', text:'5', text:'http://codeforces.com/problemset/problem/514/C']\n",
      "[text:'Jeff and Permutation', text:'Codeforces', text:'5', text:'http://codeforces.com/problemset/problem/351/E']\n",
      "[text:'Sereja and Brackets', text:'Codeforces', text:'5', text:'http://codeforces.com/problemset/problem/380/C']\n",
      "[text:\"Freelancer's Dreams\", text:'Codeforces', text:'5', text:'http://codeforces.com/problemset/problem/605/C']\n",
      "[text:'Hexagons', text:'Codeforces', text:'5', text:'http://codeforces.com/problemset/problem/615/E']\n",
      "[text:'Valid Sets', text:'Codeforces', text:'5', text:'http://codeforces.com/problemset/problem/486/D']\n",
      "[text:'Multipliers', text:'Codeforces', text:'5', text:'http://codeforces.com/problemset/problem/615/D']\n",
      "[text:'Top Secret Task', text:'Codeforces', text:'5', text:'http://codeforces.com/problemset/problem/590/D']\n",
      "[text:'Characteristics of Rectangles', text:'Codeforces', text:'5', text:'http://codeforces.com/problemset/problem/333/D']\n",
      "[text:'Tavas and Malekas', text:'Codeforces', text:'5', text:'http://codeforces.com/problemset/problem/535/D']\n",
      "[text:'Destroying Roads', text:'Codeforces', text:'5', text:'http://codeforces.com/problemset/problem/543/B']\n",
      "[text:\"Mr. Kitayuta's Technology\", text:'Codeforces', text:'5', text:'http://codeforces.com/problemset/problem/505/D']\n",
      "[text:'Maximum Value', text:'Codeforces', text:'5', text:'http://codeforces.com/problemset/problem/484/B']\n",
      "[text:'Three States', text:'Codeforces', text:'5', text:'http://codeforces.com/problemset/problem/590/C']\n",
      "[text:'Antimatter', text:'Codeforces', text:'6', text:'http://codeforces.com/problemset/problem/383/D']\n",
      "[text:'Dreamoon and Strings', text:'Codeforces', text:'6', text:'http://codeforces.com/problemset/problem/476/E']\n",
      "[text:'Necklace', text:'Codeforces', text:'6', text:'http://codeforces.com/problemset/problem/613/C']\n",
      "[text:'Number Transformation II', text:'Codeforces', text:'6', text:'http://codeforces.com/problemset/problem/346/C']\n",
      "[text:'Tricky Function', text:'Codeforces', text:'6', text:'http://codeforces.com/problemset/problem/429/D']\n",
      "[text:'REQ', text:'Codeforces', text:'6', text:'http://codeforces.com/problemset/problem/594/D']\n",
      "[text:'Soldier and Traveling', text:'Codeforces', text:'6', text:'http://codeforces.com/problemset/problem/546/E']\n",
      "[text:'Board Game', text:'Codeforces', text:'6', text:'http://codeforces.com/problemset/problem/605/D']\n",
      "[text:'Jzzhu and Numbers', text:'Codeforces', text:'6', text:'http://codeforces.com/problemset/problem/449/D']\n",
      "[text:'Name That Tune', text:'Codeforces', text:'6', text:'http://codeforces.com/problemset/problem/498/B']\n",
      "[text:'Zip-line', text:'Codeforces', text:'6', text:'http://codeforces.com/problemset/problem/650/D']\n",
      "[text:'Nudist Beach', text:'Codeforces', text:'6', text:'http://codeforces.com/problemset/problem/553/D']\n",
      "[text:\"Mr. Kitayuta's Colorful Graph\", text:'Codeforces', text:'6', text:'http://codeforces.com/problemset/problem/506/D']\n",
      "[text:'Fox And Dinner', text:'Codeforces', text:'6', text:'http://codeforces.com/problemset/problem/510/E']\n",
      "[text:'Traffic Jams in the Land', text:'Codeforces', text:'6', text:'http://codeforces.com/problemset/problem/498/D']\n",
      "[text:'Mike and Frog', text:'Codeforces', text:'6', text:'http://codeforces.com/problemset/problem/547/A']\n",
      "[text:'Prefix Product Sequence', text:'Codeforces', text:'6', text:'http://codeforces.com/problemset/problem/487/C']\n",
      "[text:'Road Improvement', text:'Codeforces', text:'6', text:'http://codeforces.com/problemset/problem/543/D']\n",
      "[text:'Ann and Half-Palindrome', text:'Codeforces', text:'7', text:'http://codeforces.com/problemset/problem/557/E']\n",
      "[text:'Tanya and Password', text:'Codeforces', text:'7', text:'http://codeforces.com/problemset/problem/508/D']\n",
      "[text:'Tree and Queries', text:'Codeforces', text:'7', text:'http://codeforces.com/problemset/problem/375/D']\n",
      "[text:'Cats Transport', text:'Codeforces', text:'7', text:'http://codeforces.com/problemset/problem/311/B']\n",
      "[text:'Greg and Caves', text:'Codeforces', text:'7', text:'http://codeforces.com/problemset/problem/295/D']\n",
      "[text:'Jzzhu and Apples', text:'Codeforces', text:'7', text:'http://codeforces.com/problemset/problem/449/C']\n",
      "[text:'Developing Game', text:'Codeforces', text:'7', text:'http://codeforces.com/problemset/problem/377/D']\n",
      "[text:'Fuzzy Search', text:'Codeforces', text:'7', text:'http://codeforces.com/problemset/problem/528/D']\n",
      "[text:'Case of a Top Secret', text:'Codeforces', text:'7', text:'http://codeforces.com/problemset/problem/555/D']\n",
      "[text:'CNF 2', text:'Codeforces', text:'7', text:'http://codeforces.com/problemset/problem/571/C']\n",
      "[text:'GukiZ and GukiZiana', text:'Codeforces', text:'7', text:'http://codeforces.com/problemset/problem/551/E']\n",
      "[text:'Arthur and Walls', text:'Codeforces', text:'7', text:'http://codeforces.com/problemset/problem/525/D']\n",
      "[text:'Kingdom and its Cities', text:'Codeforces', text:'7', text:'http://codeforces.com/problemset/problem/613/D']\n",
      "[text:'Tavas and Pashmaks', text:'Codeforces', text:'7', text:'http://codeforces.com/problemset/problem/535/E']\n",
      "[text:'Data Center Drama', text:'Codeforces', text:'7', text:'http://codeforces.com/problemset/problem/527/E']\n",
      "[text:'Hack it!', text:'Codeforces', text:'7', text:'http://codeforces.com/problemset/problem/468/C']\n",
      "[text:'Remembering Strings', text:'Codeforces', text:'7', text:'http://codeforces.com/problemset/problem/543/C']\n",
      "[text:'Kindergarten', text:'Codeforces', text:'7', text:'http://codeforces.com/problemset/problem/484/D']\n",
      "[text:'DZY Loves Planting', text:'Codeforces', text:'8', text:'http://codeforces.com/problemset/problem/444/E']\n",
      "[text:'Tavas in Kansas', text:'Codeforces', text:'8', text:'http://codeforces.com/problemset/problem/536/D']\n",
      "[text:'Intergalaxy Trips', text:'Codeforces', text:'8', text:'http://codeforces.com/problemset/problem/605/E']\n",
      "[text:'Largest Submatrix 3', text:'Codeforces', text:'8', text:'http://codeforces.com/problemset/problem/407/D']\n",
      "[text:'Serega and Fun', text:'Codeforces', text:'8', text:'http://codeforces.com/problemset/problem/455/D']\n",
      "[text:'Sign on Fence', text:'Codeforces', text:'8', text:'http://codeforces.com/problemset/problem/484/E']\n",
      "[text:'Ciel and Gondolas', text:'Codeforces', text:'8', text:'http://codeforces.com/problemset/problem/321/E']\n",
      "[text:'Sign Posts', text:'Codeforces', text:'8', text:'http://codeforces.com/problemset/problem/568/D']\n",
      "[text:'Positions in Permutations', text:'Codeforces', text:'8', text:'http://codeforces.com/problemset/problem/285/E']\n",
      "[text:'Mike and Friends', text:'Codeforces', text:'8', text:'http://codeforces.com/problemset/problem/547/E']\n",
      "[text:'Appleman and Complicated Task', text:'Codeforces', text:'8', text:'http://codeforces.com/problemset/problem/461/D']\n",
      "[text:'Stairs and Lines', text:'Codeforces', text:'8', text:'http://codeforces.com/problemset/problem/498/E']\n",
      "[text:'Helping People', text:'Codeforces', text:'8', text:'http://codeforces.com/problemset/problem/494/C']\n",
      "[text:'Birthday', text:'Codeforces', text:'10', text:'http://codeforces.com/problemset/problem/590/E']\n",
      "[text:'Dreamoon and Binary', text:'Codeforces', text:'8', text:'http://codeforces.com/problemset/problem/477/D']\n",
      "[text:'Conveyor Belts', text:'Codeforces', text:'8', text:'http://codeforces.com/problemset/problem/487/D']\n",
      "[text:'Mr. Kitayuta vs. Bamboos', text:'Codeforces', text:'8', text:'http://codeforces.com/problemset/problem/505/E']\n",
      "[text:'A Museum Robbery', text:'Codeforces', text:'8', text:'http://codeforces.com/problemset/problem/601/E']\n",
      "[text:'Fox And Travelling', text:'Codeforces', text:'8', text:'http://codeforces.com/problemset/problem/512/D']\n",
      "[text:'Little Elephant and Broken Sorting', text:'Codeforces', text:'8', text:'http://codeforces.com/problemset/problem/258/D']\n",
      "[text:'Mike and Fish', text:'Codeforces', text:'8', text:'http://codeforces.com/problemset/problem/547/D']\n",
      "[text:'Strange Sorting', text:'Codeforces', text:'8', text:'http://codeforces.com/problemset/problem/484/C']\n",
      "[text:'Case of Computer Network', text:'Codeforces', text:'8', text:'http://codeforces.com/problemset/problem/555/E']\n",
      "[text:'Shop', text:'Codeforces', text:'8', text:'http://codeforces.com/problemset/problem/521/D']\n",
      "[text:'Gerald and Path', text:'Codeforces', text:'9', text:'http://codeforces.com/problemset/problem/559/E']\n",
      "[text:'Tavas on the Path', text:'Codeforces', text:'9', text:'http://codeforces.com/problemset/problem/536/E']\n",
      "[text:'Polo the Penguin and Lucky Numbers', text:'Codeforces', text:'9', text:'http://codeforces.com/problemset/problem/288/E']\n",
      "[text:'Ghd', text:'Codeforces', text:'9', text:'http://codeforces.com/problemset/problem/364/D']\n",
      "[text:'Warrior and Archer', text:'Codeforces', text:'9', text:'http://codeforces.com/problemset/problem/594/A']\n"
     ]
    }
   ],
   "source": [
    "\n",
    "for rx in range(worksheet.nrows):\n",
    "   print(worksheet.row(rx))"
   ]
  },
  {
   "cell_type": "code",
   "execution_count": 40,
   "metadata": {},
   "outputs": [],
   "source": [
    "file = open(\"Codeforces Rating 2200 to last.md\",\"w+\")\n",
    "\n",
    "\n",
    "problem_name = worksheet.col_values(0)\n",
    "level = worksheet.col_values(2)\n",
    "link = worksheet.col_values(3)\n",
    "file.write(\"| Serial | {0} | {1} |\\n\".format(problem_name[0], level[0]))\n",
    "file.write(\"|:--|:---:|:---:|\\n\")\n",
    "for i in range(1, len(problem_name)):\n",
    "    file.write(\"|{0}.| [{1}]({2}) | {3} |\\n\".format(i, problem_name[i], link[i], level[i]))\n"
   ]
  },
  {
   "cell_type": "code",
   "execution_count": 33,
   "metadata": {},
   "outputs": [
    {
     "name": "stdout",
     "output_type": "stream",
     "text": [
      "['Codeforces Rating 0 to 1299 Extra.xls', 'Codeforces Rating 0 to 1299.xls', 'Codeforces Rating 1300 to 1399 Extra.xls', 'Codeforces Rating 1300 to 1399.xls', 'Codeforces Rating 1400 to 1499 Extra.xls', 'Codeforces Rating 1400 to 1499.xls', 'Codeforces Rating 1500 to 1599 Extra.xls', 'Codeforces Rating 1500 to 1599.xls', 'Codeforces Rating 1600 to 1699 Extra.xls', 'Codeforces Rating 1600 to 1699.xls', 'Codeforces Rating 1700 to 1799 Extra.xls', 'Codeforces Rating 1700 to 1799.xls', 'Codeforces Rating 1800 to 1899 Extra.xls', 'Codeforces Rating 1800 to 1899.xls', 'Codeforces Rating 1900 to 1999 Extra.xls', 'Codeforces Rating 1900 to 1999.xls', 'Codeforces Rating 2000 to 2099 Extra.xls', 'Codeforces Rating 2000 to 2099.xls', 'Codeforces Rating 2100 to 2199 Extra.xls', 'Codeforces Rating 2100 to 2199.xls', 'Codeforces Rating 2200 Extra.xls', 'Codeforces Rating 2200 to last.xls']\n"
     ]
    }
   ],
   "source": [
    "import os\n",
    "import glob\n",
    "\n",
    "files = glob.glob('*.xls')\n",
    "print(files)"
   ]
  },
  {
   "cell_type": "code",
   "execution_count": 36,
   "metadata": {
    "collapsed": true
   },
   "outputs": [],
   "source": [
    "# creating all at once\n",
    "for f in files:\n",
    "    t = f[:len(f) - 3]\n",
    "    t = t + 'md'\n",
    "    ff = open(t, \"w\")\n",
    "    \n",
    "    workbook = xlrd.open_workbook(f)\n",
    "    \n",
    "    worksheet = workbook.sheet_by_index(0)\n",
    "    \n",
    "    problem_name = worksheet.col_values(0)\n",
    "    level = worksheet.col_values(2)\n",
    "    link = worksheet.col_values(3)\n",
    "    \n",
    "    ff.write(\"| Serial | {0} | {1} |\\n\".format(problem_name[0], level[0]))\n",
    "    ff.write(\"|:--|:---:|:---:|\\n\")\n",
    "    for i in range(1, len(problem_name)):\n",
    "        ff.write(\"|{0}.| [{1}]({2}) | {3} |\\n\".format(i, problem_name[i], link[i], level[i]))"
   ]
  },
  {
   "cell_type": "code",
   "execution_count": null,
   "metadata": {
    "collapsed": true
   },
   "outputs": [],
   "source": []
  }
 ],
 "metadata": {
  "kernelspec": {
   "display_name": "Python 3",
   "language": "python",
   "name": "python3"
  },
  "language_info": {
   "codemirror_mode": {
    "name": "ipython",
    "version": 3
   },
   "file_extension": ".py",
   "mimetype": "text/x-python",
   "name": "python",
   "nbconvert_exporter": "python",
   "pygments_lexer": "ipython3",
   "version": "3.6.1"
  }
 },
 "nbformat": 4,
 "nbformat_minor": 2
}
